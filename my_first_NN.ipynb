{
 "cells": [
  {
   "cell_type": "code",
   "execution_count": 1,
   "metadata": {},
   "outputs": [],
   "source": [
    "import numpy as np\n",
    "import matplotlib.pyplot as plt"
   ]
  },
  {
   "cell_type": "code",
   "execution_count": null,
   "metadata": {},
   "outputs": [],
   "source": [
    "class MyNN:\n",
    "    def __init__(self, layers, units):\n",
    "        self.layers = layers\n",
    "        self.units = units\n",
    "\n",
    "    @staticmethod\n",
    "    def sigmoid(z):\n",
    "        return 1 / (1 + np.exp(-z))\n",
    "\n",
    "    @staticmethod\n",
    "    def relu(z):\n",
    "        return np.maximum(0, z)\n",
    "\n",
    "    @staticmethod\n",
    "    def my_layer(x, W, b, activation=None):\n",
    "        x = x.reshape(1, -1) if x.ndim == 1 else x  # Ensure (m, d) shape\n",
    "\n",
    "        Z = x @ W.T + b  \n",
    "\n",
    "        if activation is None or activation == 'linear':\n",
    "            return Z\n",
    "        elif activation == 'sigmoid':\n",
    "            return MyNN.sigmoid(Z)\n",
    "        elif activation == 'relu':\n",
    "            return MyNN.relu(Z)\n",
    "        else:\n",
    "            raise ValueError(f\"Unsupported activation function: {activation}\")\n",
    "        \n",
    "    def predict(self, x, W, b)"
   ]
  },
  {
   "cell_type": "code",
   "execution_count": null,
   "metadata": {},
   "outputs": [],
   "source": [
    "import tensorflow as tf\n",
    "from tensorflow import keras\n",
    "from tensorflow.keras import layers\n",
    "import numpy as np\n",
    "\n",
    "# Generate dummy classification data\n",
    "np.random.seed(42)\n",
    "x_train = np.random.rand(100, 4)  # 100 samples, 4 features\n",
    "y_train = np.random.randint(2, size=(100, 1))  # Binary classification (0 or 1)\n",
    "\n",
    "# Define the neural network model\n",
    "model = keras.Sequential([\n",
    "    layers.Dense(3, activation='relu', input_shape=(4,)),  # First hidden layer with 3 units\n",
    "    layers.Dense(3, activation='relu'),  # Second hidden layer with 3 units\n",
    "    layers.Dense(1, activation='sigmoid')  # Output layer for binary classification\n",
    "])\n",
    "\n",
    "# Compile the model\n",
    "model.compile(optimizer='adam', loss='binary_crossentropy', metrics=['accuracy'])\n",
    "\n",
    "# Train the model\n",
    "model.fit(x_train, y_train, epochs=20, batch_size=10)\n",
    "\n",
    "# Print model summary\n",
    "model.summary()\n"
   ]
  }
 ],
 "metadata": {
  "kernelspec": {
   "display_name": "Python 3",
   "language": "python",
   "name": "python3"
  },
  "language_info": {
   "codemirror_mode": {
    "name": "ipython",
    "version": 3
   },
   "file_extension": ".py",
   "mimetype": "text/x-python",
   "name": "python",
   "nbconvert_exporter": "python",
   "pygments_lexer": "ipython3",
   "version": "3.9.6"
  }
 },
 "nbformat": 4,
 "nbformat_minor": 2
}
